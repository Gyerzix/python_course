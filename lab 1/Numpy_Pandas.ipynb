{
  "nbformat": 4,
  "nbformat_minor": 0,
  "metadata": {
    "colab": {
      "provenance": []
    },
    "kernelspec": {
      "name": "python3",
      "display_name": "Python 3"
    },
    "language_info": {
      "name": "python"
    }
  },
  "cells": [
    {
      "cell_type": "code",
      "source": [
        "import numpy as np\n",
        "import pandas as pd"
      ],
      "metadata": {
        "id": "_Ixm367BnRI-"
      },
      "execution_count": null,
      "outputs": []
    },
    {
      "cell_type": "markdown",
      "source": [
        "#Numpy\n"
      ],
      "metadata": {
        "id": "-pAYz1rHcNaR"
      }
    },
    {
      "cell_type": "markdown",
      "source": [
        "1. Получить персональный вариант в виде файла Фамилия_Имя.npy."
      ],
      "metadata": {
        "id": "B3929_yRnJBM"
      }
    },
    {
      "cell_type": "markdown",
      "source": [
        "2. Загрузить в переменную m массив из персонального файла и вывести его на экран."
      ],
      "metadata": {
        "id": "Wf3wwDpWnGcA"
      }
    },
    {
      "cell_type": "code",
      "execution_count": null,
      "metadata": {
        "colab": {
          "base_uri": "https://localhost:8080/"
        },
        "id": "AtaTwv1wbQax",
        "outputId": "88637ace-06b5-4bb5-f5c5-73f01d8d4f8e"
      },
      "outputs": [
        {
          "output_type": "execute_result",
          "data": {
            "text/plain": [
              "array([[85, 58, 92, 66, 20, 89, 58, 61, 85, 62, 14, 11, 58, 79, 36, 44,\n",
              "        85, 18, 98, 17, 49, 98, 97, 70, 97,  5,  4, 44, 32, 16, 65, 45,\n",
              "        37, 55, 98, 32, 80,  4, 41, 61, 43, 38, 73,  2, 39,  3, 39, 28,\n",
              "        16, 15, 93, 51, 63, 47, 16, 55, 69, 36, 50, 85, 42, 88, 58,  4,\n",
              "        83, 60, 84, 25,  4, 55, 10,  2, 89, 18, 40, 90, 11,  6, 88, 24,\n",
              "        61, 80, 80, 60, 83, 89, 35, 31, 45, 79, 50, 70,  5, 11, 52, 48,\n",
              "        66,  4, 88, 24]], dtype=int32)"
            ]
          },
          "metadata": {},
          "execution_count": 3
        }
      ],
      "source": [
        "m = np.load('Gadzhiev_Shaxin.npy')\n",
        "m"
      ]
    },
    {
      "cell_type": "markdown",
      "source": [
        "3. Преобразовать форму загруженного массива в матрицу размерности\n",
        "(10,10). Результат преобразования оставить в переменной m. Вывести\n",
        "результаты на экран."
      ],
      "metadata": {
        "id": "28QlDYTvnisL"
      }
    },
    {
      "cell_type": "code",
      "source": [
        "m = m.reshape(10, 10)\n",
        "m"
      ],
      "metadata": {
        "colab": {
          "base_uri": "https://localhost:8080/"
        },
        "id": "As2LAQ9ZnkYT",
        "outputId": "c6813a22-3850-4f46-b7a0-4f0235b7ee22"
      },
      "execution_count": null,
      "outputs": [
        {
          "output_type": "execute_result",
          "data": {
            "text/plain": [
              "array([[85, 58, 92, 66, 20, 89, 58, 61, 85, 62],\n",
              "       [14, 11, 58, 79, 36, 44, 85, 18, 98, 17],\n",
              "       [49, 98, 97, 70, 97,  5,  4, 44, 32, 16],\n",
              "       [65, 45, 37, 55, 98, 32, 80,  4, 41, 61],\n",
              "       [43, 38, 73,  2, 39,  3, 39, 28, 16, 15],\n",
              "       [93, 51, 63, 47, 16, 55, 69, 36, 50, 85],\n",
              "       [42, 88, 58,  4, 83, 60, 84, 25,  4, 55],\n",
              "       [10,  2, 89, 18, 40, 90, 11,  6, 88, 24],\n",
              "       [61, 80, 80, 60, 83, 89, 35, 31, 45, 79],\n",
              "       [50, 70,  5, 11, 52, 48, 66,  4, 88, 24]], dtype=int32)"
            ]
          },
          "metadata": {},
          "execution_count": 4
        }
      ]
    },
    {
      "cell_type": "markdown",
      "source": [
        "4. Поместить в переменную m1 фрагмент матрицы m размером (5,4),\n",
        "начиная с элемента, расположенного по индексам (1,2). Вывести\n",
        "полученную матрицу m1 на экран."
      ],
      "metadata": {
        "id": "3jPpGGI0n2zi"
      }
    },
    {
      "cell_type": "code",
      "source": [
        "m1 = m[1:6, 2:6]\n",
        "m1"
      ],
      "metadata": {
        "colab": {
          "base_uri": "https://localhost:8080/"
        },
        "id": "2uthPBHin78k",
        "outputId": "e3f40992-79ba-471f-fd9a-e686c1ba0ba1"
      },
      "execution_count": null,
      "outputs": [
        {
          "output_type": "execute_result",
          "data": {
            "text/plain": [
              "array([[58, 79, 36, 44],\n",
              "       [97, 70, 97,  5],\n",
              "       [37, 55, 98, 32],\n",
              "       [73,  2, 39,  3],\n",
              "       [63, 47, 16, 55]], dtype=int32)"
            ]
          },
          "metadata": {},
          "execution_count": 5
        }
      ]
    },
    {
      "cell_type": "markdown",
      "source": [
        "5. Поместить в переменную m2 фрагмент матрицы m размером (5,4),\n",
        "начиная с элемента, расположенного по индексам (4,3). Вывести\n",
        "матрицу m2 на экран."
      ],
      "metadata": {
        "id": "pWO_jvRzpTtH"
      }
    },
    {
      "cell_type": "code",
      "source": [
        "m2 = m[4:9, 3:7]\n",
        "m2"
      ],
      "metadata": {
        "colab": {
          "base_uri": "https://localhost:8080/"
        },
        "id": "h3zU1oQ2phPt",
        "outputId": "6705f686-a842-4ad1-8416-d0fd72d7638d"
      },
      "execution_count": null,
      "outputs": [
        {
          "output_type": "execute_result",
          "data": {
            "text/plain": [
              "array([[ 2, 39,  3, 39],\n",
              "       [47, 16, 55, 69],\n",
              "       [ 4, 83, 60, 84],\n",
              "       [18, 40, 90, 11],\n",
              "       [60, 83, 89, 35]], dtype=int32)"
            ]
          },
          "metadata": {},
          "execution_count": 6
        }
      ]
    },
    {
      "cell_type": "markdown",
      "source": [
        "6. Визуально убедиться, что считаны верные фрагменты исходной матрицы\n",
        "m."
      ],
      "metadata": {
        "id": "gG5MLu5Zp0BW"
      }
    },
    {
      "cell_type": "markdown",
      "source": [
        "Все ок\n"
      ],
      "metadata": {
        "id": "ARIHGMndp1-q"
      }
    },
    {
      "cell_type": "markdown",
      "source": [
        "7. Транспонировать матрицу m2, вывести результаты на экран"
      ],
      "metadata": {
        "id": "UUVY98zWp3UR"
      }
    },
    {
      "cell_type": "code",
      "source": [
        "m2.T"
      ],
      "metadata": {
        "colab": {
          "base_uri": "https://localhost:8080/"
        },
        "id": "ERls1Sx6p7XI",
        "outputId": "f132dd59-3556-47c8-fa8e-c61b5006724c"
      },
      "execution_count": null,
      "outputs": [
        {
          "output_type": "execute_result",
          "data": {
            "text/plain": [
              "array([[ 2, 47,  4, 18, 60],\n",
              "       [39, 16, 83, 40, 83],\n",
              "       [ 3, 55, 60, 90, 89],\n",
              "       [39, 69, 84, 11, 35]], dtype=int32)"
            ]
          },
          "metadata": {},
          "execution_count": 7
        }
      ]
    },
    {
      "cell_type": "markdown",
      "source": [
        "8. Найти матричное произведение m1 и m2 транспонированной. Вывести\n",
        "его на экран."
      ],
      "metadata": {
        "id": "MShMbH9KqCly"
      }
    },
    {
      "cell_type": "code",
      "source": [
        "prod = m1 @ m2.T\n",
        "prod"
      ],
      "metadata": {
        "colab": {
          "base_uri": "https://localhost:8080/"
        },
        "id": "S3CE-_JLqB0M",
        "outputId": "e8a90e45-509f-443c-d439-66f8a0d16bdb"
      },
      "execution_count": null,
      "outputs": [
        {
          "output_type": "execute_result",
          "data": {
            "text/plain": [
              "array([[ 5021,  9006, 12645,  7928, 14781],\n",
              "       [ 3410, 11359, 12438, 13331, 20438],\n",
              "       [ 3761, 10217, 13281, 12038, 16627],\n",
              "       [  458,  5815,  3050,  4937,  8122],\n",
              "       [ 4152,  8388,  9733,  5059, 11030]], dtype=int32)"
            ]
          },
          "metadata": {},
          "execution_count": 8
        }
      ]
    },
    {
      "cell_type": "markdown",
      "source": [
        "9. Из полученного произведения сделать выборку элементов по условию:\n",
        "выбрать только те элементы, значение которых < 10500. Вывести их на\n",
        "экран."
      ],
      "metadata": {
        "id": "bhrVa8V1qJo-"
      }
    },
    {
      "cell_type": "code",
      "source": [
        "cond = prod[prod < 10500]\n",
        "cond"
      ],
      "metadata": {
        "colab": {
          "base_uri": "https://localhost:8080/"
        },
        "id": "bh-GnNFXqKup",
        "outputId": "7a162aec-f414-44ea-9ef0-e83aadd1a211"
      },
      "execution_count": null,
      "outputs": [
        {
          "output_type": "execute_result",
          "data": {
            "text/plain": [
              "array([ 5021,  9006,  7928,  3410,  3761, 10217,   458,  5815,  3050,\n",
              "        4937,  8122,  4152,  8388,  9733,  5059], dtype=int32)"
            ]
          },
          "metadata": {},
          "execution_count": 9
        }
      ]
    },
    {
      "cell_type": "markdown",
      "source": [
        "10. Найти среднее арифметическое элементов условной выборки, вывести\n",
        "его на экран, округлив до второго знака после запятой."
      ],
      "metadata": {
        "id": "Nq5BQP_6qWoy"
      }
    },
    {
      "cell_type": "code",
      "source": [
        "np.round(np.mean(cond), 2)"
      ],
      "metadata": {
        "colab": {
          "base_uri": "https://localhost:8080/"
        },
        "id": "fO1pfYHKqYZg",
        "outputId": "b972ced3-b49f-460e-860b-d9eb05797bce"
      },
      "execution_count": null,
      "outputs": [
        {
          "output_type": "execute_result",
          "data": {
            "text/plain": [
              "5937.13"
            ]
          },
          "metadata": {},
          "execution_count": 10
        }
      ]
    },
    {
      "cell_type": "markdown",
      "source": [
        "#Pandas\n"
      ],
      "metadata": {
        "id": "bRQd8zUmqrm4"
      }
    },
    {
      "cell_type": "markdown",
      "source": [
        "1. Получить персональный вариант в виде файла Фамилия_Имя.csv.\n",
        "Данный файл представляет собой фрагмент обезличенной медицинской базы\n",
        "данных, в которой зафиксированы значения 4-х показателей для 500 пациентов,\n",
        "а именно:\n",
        "- height – рост;\n",
        "- weight – вес;\n",
        "- ap_hi – значение «верхнего» (систолического) артериального давления;\n",
        "- ap_lo - значение «нижнего» (диастолического) артериального давления.\n",
        "\n",
        "Однако данные не идеальны: местами отсутствуют измерения роста и/или веса, а\n",
        "местами показания давления имеют ошибочные значения."
      ],
      "metadata": {
        "id": "Wt_CIY9txxf5"
      }
    },
    {
      "cell_type": "markdown",
      "source": [
        "2. Загрузить данные из персонального файла средствами Pandas"
      ],
      "metadata": {
        "id": "OE_iLvDVx3pD"
      }
    },
    {
      "cell_type": "code",
      "source": [
        "df = pd.read_csv('Gadzhiev_Shaxin.csv', sep = \";\")\n",
        "df"
      ],
      "metadata": {
        "colab": {
          "base_uri": "https://localhost:8080/",
          "height": 423
        },
        "id": "JW-AEmnVxqtF",
        "outputId": "c6274d1f-0d09-4081-a4d1-c8bd5f40ba27"
      },
      "execution_count": null,
      "outputs": [
        {
          "output_type": "execute_result",
          "data": {
            "text/plain": [
              "     height  weight  ap_hi  ap_lo\n",
              "0     168.0    82.0    160   1000\n",
              "1     170.0    80.0    160    100\n",
              "2     160.0    58.0    110     80\n",
              "3     176.0    65.0    140     80\n",
              "4     156.0    50.0    120     80\n",
              "..      ...     ...    ...    ...\n",
              "495   161.0    65.0    110     70\n",
              "496   157.0    58.0    120     80\n",
              "497   157.0    78.0    110     80\n",
              "498   160.0   102.0    140     90\n",
              "499   152.0    66.0    130     80\n",
              "\n",
              "[500 rows x 4 columns]"
            ],
            "text/html": [
              "\n",
              "  <div id=\"df-ee50fa61-fc42-495a-b931-155ab70dc4f8\" class=\"colab-df-container\">\n",
              "    <div>\n",
              "<style scoped>\n",
              "    .dataframe tbody tr th:only-of-type {\n",
              "        vertical-align: middle;\n",
              "    }\n",
              "\n",
              "    .dataframe tbody tr th {\n",
              "        vertical-align: top;\n",
              "    }\n",
              "\n",
              "    .dataframe thead th {\n",
              "        text-align: right;\n",
              "    }\n",
              "</style>\n",
              "<table border=\"1\" class=\"dataframe\">\n",
              "  <thead>\n",
              "    <tr style=\"text-align: right;\">\n",
              "      <th></th>\n",
              "      <th>height</th>\n",
              "      <th>weight</th>\n",
              "      <th>ap_hi</th>\n",
              "      <th>ap_lo</th>\n",
              "    </tr>\n",
              "  </thead>\n",
              "  <tbody>\n",
              "    <tr>\n",
              "      <th>0</th>\n",
              "      <td>168.0</td>\n",
              "      <td>82.0</td>\n",
              "      <td>160</td>\n",
              "      <td>1000</td>\n",
              "    </tr>\n",
              "    <tr>\n",
              "      <th>1</th>\n",
              "      <td>170.0</td>\n",
              "      <td>80.0</td>\n",
              "      <td>160</td>\n",
              "      <td>100</td>\n",
              "    </tr>\n",
              "    <tr>\n",
              "      <th>2</th>\n",
              "      <td>160.0</td>\n",
              "      <td>58.0</td>\n",
              "      <td>110</td>\n",
              "      <td>80</td>\n",
              "    </tr>\n",
              "    <tr>\n",
              "      <th>3</th>\n",
              "      <td>176.0</td>\n",
              "      <td>65.0</td>\n",
              "      <td>140</td>\n",
              "      <td>80</td>\n",
              "    </tr>\n",
              "    <tr>\n",
              "      <th>4</th>\n",
              "      <td>156.0</td>\n",
              "      <td>50.0</td>\n",
              "      <td>120</td>\n",
              "      <td>80</td>\n",
              "    </tr>\n",
              "    <tr>\n",
              "      <th>...</th>\n",
              "      <td>...</td>\n",
              "      <td>...</td>\n",
              "      <td>...</td>\n",
              "      <td>...</td>\n",
              "    </tr>\n",
              "    <tr>\n",
              "      <th>495</th>\n",
              "      <td>161.0</td>\n",
              "      <td>65.0</td>\n",
              "      <td>110</td>\n",
              "      <td>70</td>\n",
              "    </tr>\n",
              "    <tr>\n",
              "      <th>496</th>\n",
              "      <td>157.0</td>\n",
              "      <td>58.0</td>\n",
              "      <td>120</td>\n",
              "      <td>80</td>\n",
              "    </tr>\n",
              "    <tr>\n",
              "      <th>497</th>\n",
              "      <td>157.0</td>\n",
              "      <td>78.0</td>\n",
              "      <td>110</td>\n",
              "      <td>80</td>\n",
              "    </tr>\n",
              "    <tr>\n",
              "      <th>498</th>\n",
              "      <td>160.0</td>\n",
              "      <td>102.0</td>\n",
              "      <td>140</td>\n",
              "      <td>90</td>\n",
              "    </tr>\n",
              "    <tr>\n",
              "      <th>499</th>\n",
              "      <td>152.0</td>\n",
              "      <td>66.0</td>\n",
              "      <td>130</td>\n",
              "      <td>80</td>\n",
              "    </tr>\n",
              "  </tbody>\n",
              "</table>\n",
              "<p>500 rows × 4 columns</p>\n",
              "</div>\n",
              "    <div class=\"colab-df-buttons\">\n",
              "\n",
              "  <div class=\"colab-df-container\">\n",
              "    <button class=\"colab-df-convert\" onclick=\"convertToInteractive('df-ee50fa61-fc42-495a-b931-155ab70dc4f8')\"\n",
              "            title=\"Convert this dataframe to an interactive table.\"\n",
              "            style=\"display:none;\">\n",
              "\n",
              "  <svg xmlns=\"http://www.w3.org/2000/svg\" height=\"24px\" viewBox=\"0 -960 960 960\">\n",
              "    <path d=\"M120-120v-720h720v720H120Zm60-500h600v-160H180v160Zm220 220h160v-160H400v160Zm0 220h160v-160H400v160ZM180-400h160v-160H180v160Zm440 0h160v-160H620v160ZM180-180h160v-160H180v160Zm440 0h160v-160H620v160Z\"/>\n",
              "  </svg>\n",
              "    </button>\n",
              "\n",
              "  <style>\n",
              "    .colab-df-container {\n",
              "      display:flex;\n",
              "      gap: 12px;\n",
              "    }\n",
              "\n",
              "    .colab-df-convert {\n",
              "      background-color: #E8F0FE;\n",
              "      border: none;\n",
              "      border-radius: 50%;\n",
              "      cursor: pointer;\n",
              "      display: none;\n",
              "      fill: #1967D2;\n",
              "      height: 32px;\n",
              "      padding: 0 0 0 0;\n",
              "      width: 32px;\n",
              "    }\n",
              "\n",
              "    .colab-df-convert:hover {\n",
              "      background-color: #E2EBFA;\n",
              "      box-shadow: 0px 1px 2px rgba(60, 64, 67, 0.3), 0px 1px 3px 1px rgba(60, 64, 67, 0.15);\n",
              "      fill: #174EA6;\n",
              "    }\n",
              "\n",
              "    .colab-df-buttons div {\n",
              "      margin-bottom: 4px;\n",
              "    }\n",
              "\n",
              "    [theme=dark] .colab-df-convert {\n",
              "      background-color: #3B4455;\n",
              "      fill: #D2E3FC;\n",
              "    }\n",
              "\n",
              "    [theme=dark] .colab-df-convert:hover {\n",
              "      background-color: #434B5C;\n",
              "      box-shadow: 0px 1px 3px 1px rgba(0, 0, 0, 0.15);\n",
              "      filter: drop-shadow(0px 1px 2px rgba(0, 0, 0, 0.3));\n",
              "      fill: #FFFFFF;\n",
              "    }\n",
              "  </style>\n",
              "\n",
              "    <script>\n",
              "      const buttonEl =\n",
              "        document.querySelector('#df-ee50fa61-fc42-495a-b931-155ab70dc4f8 button.colab-df-convert');\n",
              "      buttonEl.style.display =\n",
              "        google.colab.kernel.accessAllowed ? 'block' : 'none';\n",
              "\n",
              "      async function convertToInteractive(key) {\n",
              "        const element = document.querySelector('#df-ee50fa61-fc42-495a-b931-155ab70dc4f8');\n",
              "        const dataTable =\n",
              "          await google.colab.kernel.invokeFunction('convertToInteractive',\n",
              "                                                    [key], {});\n",
              "        if (!dataTable) return;\n",
              "\n",
              "        const docLinkHtml = 'Like what you see? Visit the ' +\n",
              "          '<a target=\"_blank\" href=https://colab.research.google.com/notebooks/data_table.ipynb>data table notebook</a>'\n",
              "          + ' to learn more about interactive tables.';\n",
              "        element.innerHTML = '';\n",
              "        dataTable['output_type'] = 'display_data';\n",
              "        await google.colab.output.renderOutput(dataTable, element);\n",
              "        const docLink = document.createElement('div');\n",
              "        docLink.innerHTML = docLinkHtml;\n",
              "        element.appendChild(docLink);\n",
              "      }\n",
              "    </script>\n",
              "  </div>\n",
              "\n",
              "\n",
              "<div id=\"df-4a84d8d8-9274-47e2-bc53-bcae3fa0965b\">\n",
              "  <button class=\"colab-df-quickchart\" onclick=\"quickchart('df-4a84d8d8-9274-47e2-bc53-bcae3fa0965b')\"\n",
              "            title=\"Suggest charts\"\n",
              "            style=\"display:none;\">\n",
              "\n",
              "<svg xmlns=\"http://www.w3.org/2000/svg\" height=\"24px\"viewBox=\"0 0 24 24\"\n",
              "     width=\"24px\">\n",
              "    <g>\n",
              "        <path d=\"M19 3H5c-1.1 0-2 .9-2 2v14c0 1.1.9 2 2 2h14c1.1 0 2-.9 2-2V5c0-1.1-.9-2-2-2zM9 17H7v-7h2v7zm4 0h-2V7h2v10zm4 0h-2v-4h2v4z\"/>\n",
              "    </g>\n",
              "</svg>\n",
              "  </button>\n",
              "\n",
              "<style>\n",
              "  .colab-df-quickchart {\n",
              "      --bg-color: #E8F0FE;\n",
              "      --fill-color: #1967D2;\n",
              "      --hover-bg-color: #E2EBFA;\n",
              "      --hover-fill-color: #174EA6;\n",
              "      --disabled-fill-color: #AAA;\n",
              "      --disabled-bg-color: #DDD;\n",
              "  }\n",
              "\n",
              "  [theme=dark] .colab-df-quickchart {\n",
              "      --bg-color: #3B4455;\n",
              "      --fill-color: #D2E3FC;\n",
              "      --hover-bg-color: #434B5C;\n",
              "      --hover-fill-color: #FFFFFF;\n",
              "      --disabled-bg-color: #3B4455;\n",
              "      --disabled-fill-color: #666;\n",
              "  }\n",
              "\n",
              "  .colab-df-quickchart {\n",
              "    background-color: var(--bg-color);\n",
              "    border: none;\n",
              "    border-radius: 50%;\n",
              "    cursor: pointer;\n",
              "    display: none;\n",
              "    fill: var(--fill-color);\n",
              "    height: 32px;\n",
              "    padding: 0;\n",
              "    width: 32px;\n",
              "  }\n",
              "\n",
              "  .colab-df-quickchart:hover {\n",
              "    background-color: var(--hover-bg-color);\n",
              "    box-shadow: 0 1px 2px rgba(60, 64, 67, 0.3), 0 1px 3px 1px rgba(60, 64, 67, 0.15);\n",
              "    fill: var(--button-hover-fill-color);\n",
              "  }\n",
              "\n",
              "  .colab-df-quickchart-complete:disabled,\n",
              "  .colab-df-quickchart-complete:disabled:hover {\n",
              "    background-color: var(--disabled-bg-color);\n",
              "    fill: var(--disabled-fill-color);\n",
              "    box-shadow: none;\n",
              "  }\n",
              "\n",
              "  .colab-df-spinner {\n",
              "    border: 2px solid var(--fill-color);\n",
              "    border-color: transparent;\n",
              "    border-bottom-color: var(--fill-color);\n",
              "    animation:\n",
              "      spin 1s steps(1) infinite;\n",
              "  }\n",
              "\n",
              "  @keyframes spin {\n",
              "    0% {\n",
              "      border-color: transparent;\n",
              "      border-bottom-color: var(--fill-color);\n",
              "      border-left-color: var(--fill-color);\n",
              "    }\n",
              "    20% {\n",
              "      border-color: transparent;\n",
              "      border-left-color: var(--fill-color);\n",
              "      border-top-color: var(--fill-color);\n",
              "    }\n",
              "    30% {\n",
              "      border-color: transparent;\n",
              "      border-left-color: var(--fill-color);\n",
              "      border-top-color: var(--fill-color);\n",
              "      border-right-color: var(--fill-color);\n",
              "    }\n",
              "    40% {\n",
              "      border-color: transparent;\n",
              "      border-right-color: var(--fill-color);\n",
              "      border-top-color: var(--fill-color);\n",
              "    }\n",
              "    60% {\n",
              "      border-color: transparent;\n",
              "      border-right-color: var(--fill-color);\n",
              "    }\n",
              "    80% {\n",
              "      border-color: transparent;\n",
              "      border-right-color: var(--fill-color);\n",
              "      border-bottom-color: var(--fill-color);\n",
              "    }\n",
              "    90% {\n",
              "      border-color: transparent;\n",
              "      border-bottom-color: var(--fill-color);\n",
              "    }\n",
              "  }\n",
              "</style>\n",
              "\n",
              "  <script>\n",
              "    async function quickchart(key) {\n",
              "      const quickchartButtonEl =\n",
              "        document.querySelector('#' + key + ' button');\n",
              "      quickchartButtonEl.disabled = true;  // To prevent multiple clicks.\n",
              "      quickchartButtonEl.classList.add('colab-df-spinner');\n",
              "      try {\n",
              "        const charts = await google.colab.kernel.invokeFunction(\n",
              "            'suggestCharts', [key], {});\n",
              "      } catch (error) {\n",
              "        console.error('Error during call to suggestCharts:', error);\n",
              "      }\n",
              "      quickchartButtonEl.classList.remove('colab-df-spinner');\n",
              "      quickchartButtonEl.classList.add('colab-df-quickchart-complete');\n",
              "    }\n",
              "    (() => {\n",
              "      let quickchartButtonEl =\n",
              "        document.querySelector('#df-4a84d8d8-9274-47e2-bc53-bcae3fa0965b button');\n",
              "      quickchartButtonEl.style.display =\n",
              "        google.colab.kernel.accessAllowed ? 'block' : 'none';\n",
              "    })();\n",
              "  </script>\n",
              "</div>\n",
              "    </div>\n",
              "  </div>\n"
            ],
            "application/vnd.google.colaboratory.intrinsic+json": {
              "type": "dataframe",
              "variable_name": "df",
              "summary": "{\n  \"name\": \"df\",\n  \"rows\": 500,\n  \"fields\": [\n    {\n      \"column\": \"height\",\n      \"properties\": {\n        \"dtype\": \"number\",\n        \"std\": 7.7904966784696805,\n        \"min\": 140.0,\n        \"max\": 198.0,\n        \"num_unique_values\": 42,\n        \"samples\": [\n          152.0,\n          165.0,\n          174.0\n        ],\n        \"semantic_type\": \"\",\n        \"description\": \"\"\n      }\n    },\n    {\n      \"column\": \"weight\",\n      \"properties\": {\n        \"dtype\": \"number\",\n        \"std\": 14.424050858097305,\n        \"min\": 45.0,\n        \"max\": 150.0,\n        \"num_unique_values\": 72,\n        \"samples\": [\n          50.0,\n          89.0,\n          111.0\n        ],\n        \"semantic_type\": \"\",\n        \"description\": \"\"\n      }\n    },\n    {\n      \"column\": \"ap_hi\",\n      \"properties\": {\n        \"dtype\": \"number\",\n        \"std\": 131,\n        \"min\": 10,\n        \"max\": 1000,\n        \"num_unique_values\": 31,\n        \"samples\": [\n          900,\n          800,\n          700\n        ],\n        \"semantic_type\": \"\",\n        \"description\": \"\"\n      }\n    },\n    {\n      \"column\": \"ap_lo\",\n      \"properties\": {\n        \"dtype\": \"number\",\n        \"std\": 100,\n        \"min\": 60,\n        \"max\": 1001,\n        \"num_unique_values\": 20,\n        \"samples\": [\n          1000,\n          110,\n          75\n        ],\n        \"semantic_type\": \"\",\n        \"description\": \"\"\n      }\n    }\n  ]\n}"
            }
          },
          "metadata": {},
          "execution_count": 11
        }
      ]
    },
    {
      "cell_type": "markdown",
      "source": [
        "3. Полученные данные необходимо очистить, используя возможности библиотеки\n",
        "Pandas"
      ],
      "metadata": {
        "id": "dDO81HX5ymiZ"
      }
    },
    {
      "cell_type": "markdown",
      "source": [
        "Исправление записей, у которых отсутствует **только одно** из значений роста\n",
        "или веса - требуется заменить неопределенное значение на\n",
        "среднее значение веса или роста, округленное до целого.\n"
      ],
      "metadata": {
        "id": "0QWLiB4WyoVw"
      }
    },
    {
      "cell_type": "code",
      "source": [
        "height_mean = np.round(np.mean(df.height))\n",
        "weight_mean = np.round(np.mean(df.weight))"
      ],
      "metadata": {
        "id": "C2zBxRjF0dWt"
      },
      "execution_count": null,
      "outputs": []
    },
    {
      "cell_type": "code",
      "source": [
        "df.loc[df['height'].isna() & df['weight'].notna(), 'height'] = height_mean # исправление записей, где nan только у роста\n",
        "df.loc[df['height'].notna() & df['weight'].isna(), 'weight'] = weight_mean # исправление записей, где nan только у веса"
      ],
      "metadata": {
        "id": "NgSEUvjx1-ib"
      },
      "execution_count": null,
      "outputs": []
    },
    {
      "cell_type": "code",
      "source": [
        "df[df['height'].isna() | df['weight'].isna()] # проверка"
      ],
      "metadata": {
        "colab": {
          "base_uri": "https://localhost:8080/",
          "height": 53
        },
        "id": "0Us5khrb0EXh",
        "outputId": "b730436d-d00d-4c32-f2ea-14c26aee8089"
      },
      "execution_count": null,
      "outputs": [
        {
          "output_type": "execute_result",
          "data": {
            "text/plain": [
              "Empty DataFrame\n",
              "Columns: [height, weight, ap_hi, ap_lo]\n",
              "Index: []"
            ],
            "text/html": [
              "\n",
              "  <div id=\"df-b6e635fa-64a7-44ee-8905-074f86a5e308\" class=\"colab-df-container\">\n",
              "    <div>\n",
              "<style scoped>\n",
              "    .dataframe tbody tr th:only-of-type {\n",
              "        vertical-align: middle;\n",
              "    }\n",
              "\n",
              "    .dataframe tbody tr th {\n",
              "        vertical-align: top;\n",
              "    }\n",
              "\n",
              "    .dataframe thead th {\n",
              "        text-align: right;\n",
              "    }\n",
              "</style>\n",
              "<table border=\"1\" class=\"dataframe\">\n",
              "  <thead>\n",
              "    <tr style=\"text-align: right;\">\n",
              "      <th></th>\n",
              "      <th>height</th>\n",
              "      <th>weight</th>\n",
              "      <th>ap_hi</th>\n",
              "      <th>ap_lo</th>\n",
              "    </tr>\n",
              "  </thead>\n",
              "  <tbody>\n",
              "  </tbody>\n",
              "</table>\n",
              "</div>\n",
              "    <div class=\"colab-df-buttons\">\n",
              "\n",
              "  <div class=\"colab-df-container\">\n",
              "    <button class=\"colab-df-convert\" onclick=\"convertToInteractive('df-b6e635fa-64a7-44ee-8905-074f86a5e308')\"\n",
              "            title=\"Convert this dataframe to an interactive table.\"\n",
              "            style=\"display:none;\">\n",
              "\n",
              "  <svg xmlns=\"http://www.w3.org/2000/svg\" height=\"24px\" viewBox=\"0 -960 960 960\">\n",
              "    <path d=\"M120-120v-720h720v720H120Zm60-500h600v-160H180v160Zm220 220h160v-160H400v160Zm0 220h160v-160H400v160ZM180-400h160v-160H180v160Zm440 0h160v-160H620v160ZM180-180h160v-160H180v160Zm440 0h160v-160H620v160Z\"/>\n",
              "  </svg>\n",
              "    </button>\n",
              "\n",
              "  <style>\n",
              "    .colab-df-container {\n",
              "      display:flex;\n",
              "      gap: 12px;\n",
              "    }\n",
              "\n",
              "    .colab-df-convert {\n",
              "      background-color: #E8F0FE;\n",
              "      border: none;\n",
              "      border-radius: 50%;\n",
              "      cursor: pointer;\n",
              "      display: none;\n",
              "      fill: #1967D2;\n",
              "      height: 32px;\n",
              "      padding: 0 0 0 0;\n",
              "      width: 32px;\n",
              "    }\n",
              "\n",
              "    .colab-df-convert:hover {\n",
              "      background-color: #E2EBFA;\n",
              "      box-shadow: 0px 1px 2px rgba(60, 64, 67, 0.3), 0px 1px 3px 1px rgba(60, 64, 67, 0.15);\n",
              "      fill: #174EA6;\n",
              "    }\n",
              "\n",
              "    .colab-df-buttons div {\n",
              "      margin-bottom: 4px;\n",
              "    }\n",
              "\n",
              "    [theme=dark] .colab-df-convert {\n",
              "      background-color: #3B4455;\n",
              "      fill: #D2E3FC;\n",
              "    }\n",
              "\n",
              "    [theme=dark] .colab-df-convert:hover {\n",
              "      background-color: #434B5C;\n",
              "      box-shadow: 0px 1px 3px 1px rgba(0, 0, 0, 0.15);\n",
              "      filter: drop-shadow(0px 1px 2px rgba(0, 0, 0, 0.3));\n",
              "      fill: #FFFFFF;\n",
              "    }\n",
              "  </style>\n",
              "\n",
              "    <script>\n",
              "      const buttonEl =\n",
              "        document.querySelector('#df-b6e635fa-64a7-44ee-8905-074f86a5e308 button.colab-df-convert');\n",
              "      buttonEl.style.display =\n",
              "        google.colab.kernel.accessAllowed ? 'block' : 'none';\n",
              "\n",
              "      async function convertToInteractive(key) {\n",
              "        const element = document.querySelector('#df-b6e635fa-64a7-44ee-8905-074f86a5e308');\n",
              "        const dataTable =\n",
              "          await google.colab.kernel.invokeFunction('convertToInteractive',\n",
              "                                                    [key], {});\n",
              "        if (!dataTable) return;\n",
              "\n",
              "        const docLinkHtml = 'Like what you see? Visit the ' +\n",
              "          '<a target=\"_blank\" href=https://colab.research.google.com/notebooks/data_table.ipynb>data table notebook</a>'\n",
              "          + ' to learn more about interactive tables.';\n",
              "        element.innerHTML = '';\n",
              "        dataTable['output_type'] = 'display_data';\n",
              "        await google.colab.output.renderOutput(dataTable, element);\n",
              "        const docLink = document.createElement('div');\n",
              "        docLink.innerHTML = docLinkHtml;\n",
              "        element.appendChild(docLink);\n",
              "      }\n",
              "    </script>\n",
              "  </div>\n",
              "\n",
              "    </div>\n",
              "  </div>\n"
            ],
            "application/vnd.google.colaboratory.intrinsic+json": {
              "type": "dataframe",
              "summary": "{\n  \"name\": \"df[df['height']\",\n  \"rows\": 0,\n  \"fields\": [\n    {\n      \"column\": \"height\",\n      \"properties\": {\n        \"dtype\": \"number\",\n        \"std\": null,\n        \"min\": null,\n        \"max\": null,\n        \"num_unique_values\": 0,\n        \"samples\": [],\n        \"semantic_type\": \"\",\n        \"description\": \"\"\n      }\n    },\n    {\n      \"column\": \"weight\",\n      \"properties\": {\n        \"dtype\": \"number\",\n        \"std\": null,\n        \"min\": null,\n        \"max\": null,\n        \"num_unique_values\": 0,\n        \"samples\": [],\n        \"semantic_type\": \"\",\n        \"description\": \"\"\n      }\n    },\n    {\n      \"column\": \"ap_hi\",\n      \"properties\": {\n        \"dtype\": \"number\",\n        \"std\": null,\n        \"min\": null,\n        \"max\": null,\n        \"num_unique_values\": 0,\n        \"samples\": [],\n        \"semantic_type\": \"\",\n        \"description\": \"\"\n      }\n    },\n    {\n      \"column\": \"ap_lo\",\n      \"properties\": {\n        \"dtype\": \"number\",\n        \"std\": null,\n        \"min\": null,\n        \"max\": null,\n        \"num_unique_values\": 0,\n        \"samples\": [],\n        \"semantic_type\": \"\",\n        \"description\": \"\"\n      }\n    }\n  ]\n}"
            }
          },
          "metadata": {},
          "execution_count": 14
        }
      ]
    },
    {
      "cell_type": "markdown",
      "source": [
        "Удаление записей, у которых отсутствует значение **и** роста **и** веса;"
      ],
      "metadata": {
        "id": "iNTYU7Ex3_Vr"
      }
    },
    {
      "cell_type": "code",
      "source": [
        "df[df['height'].isna() & df['weight'].isna()] # нет таких записей"
      ],
      "metadata": {
        "colab": {
          "base_uri": "https://localhost:8080/",
          "height": 53
        },
        "id": "ovQER08r4E43",
        "outputId": "e5b5f1a8-666b-4d72-a324-5e429a139426"
      },
      "execution_count": null,
      "outputs": [
        {
          "output_type": "execute_result",
          "data": {
            "text/plain": [
              "Empty DataFrame\n",
              "Columns: [height, weight, ap_hi, ap_lo]\n",
              "Index: []"
            ],
            "text/html": [
              "\n",
              "  <div id=\"df-0fdebe62-952c-41e3-90b6-afa7a857492d\" class=\"colab-df-container\">\n",
              "    <div>\n",
              "<style scoped>\n",
              "    .dataframe tbody tr th:only-of-type {\n",
              "        vertical-align: middle;\n",
              "    }\n",
              "\n",
              "    .dataframe tbody tr th {\n",
              "        vertical-align: top;\n",
              "    }\n",
              "\n",
              "    .dataframe thead th {\n",
              "        text-align: right;\n",
              "    }\n",
              "</style>\n",
              "<table border=\"1\" class=\"dataframe\">\n",
              "  <thead>\n",
              "    <tr style=\"text-align: right;\">\n",
              "      <th></th>\n",
              "      <th>height</th>\n",
              "      <th>weight</th>\n",
              "      <th>ap_hi</th>\n",
              "      <th>ap_lo</th>\n",
              "    </tr>\n",
              "  </thead>\n",
              "  <tbody>\n",
              "  </tbody>\n",
              "</table>\n",
              "</div>\n",
              "    <div class=\"colab-df-buttons\">\n",
              "\n",
              "  <div class=\"colab-df-container\">\n",
              "    <button class=\"colab-df-convert\" onclick=\"convertToInteractive('df-0fdebe62-952c-41e3-90b6-afa7a857492d')\"\n",
              "            title=\"Convert this dataframe to an interactive table.\"\n",
              "            style=\"display:none;\">\n",
              "\n",
              "  <svg xmlns=\"http://www.w3.org/2000/svg\" height=\"24px\" viewBox=\"0 -960 960 960\">\n",
              "    <path d=\"M120-120v-720h720v720H120Zm60-500h600v-160H180v160Zm220 220h160v-160H400v160Zm0 220h160v-160H400v160ZM180-400h160v-160H180v160Zm440 0h160v-160H620v160ZM180-180h160v-160H180v160Zm440 0h160v-160H620v160Z\"/>\n",
              "  </svg>\n",
              "    </button>\n",
              "\n",
              "  <style>\n",
              "    .colab-df-container {\n",
              "      display:flex;\n",
              "      gap: 12px;\n",
              "    }\n",
              "\n",
              "    .colab-df-convert {\n",
              "      background-color: #E8F0FE;\n",
              "      border: none;\n",
              "      border-radius: 50%;\n",
              "      cursor: pointer;\n",
              "      display: none;\n",
              "      fill: #1967D2;\n",
              "      height: 32px;\n",
              "      padding: 0 0 0 0;\n",
              "      width: 32px;\n",
              "    }\n",
              "\n",
              "    .colab-df-convert:hover {\n",
              "      background-color: #E2EBFA;\n",
              "      box-shadow: 0px 1px 2px rgba(60, 64, 67, 0.3), 0px 1px 3px 1px rgba(60, 64, 67, 0.15);\n",
              "      fill: #174EA6;\n",
              "    }\n",
              "\n",
              "    .colab-df-buttons div {\n",
              "      margin-bottom: 4px;\n",
              "    }\n",
              "\n",
              "    [theme=dark] .colab-df-convert {\n",
              "      background-color: #3B4455;\n",
              "      fill: #D2E3FC;\n",
              "    }\n",
              "\n",
              "    [theme=dark] .colab-df-convert:hover {\n",
              "      background-color: #434B5C;\n",
              "      box-shadow: 0px 1px 3px 1px rgba(0, 0, 0, 0.15);\n",
              "      filter: drop-shadow(0px 1px 2px rgba(0, 0, 0, 0.3));\n",
              "      fill: #FFFFFF;\n",
              "    }\n",
              "  </style>\n",
              "\n",
              "    <script>\n",
              "      const buttonEl =\n",
              "        document.querySelector('#df-0fdebe62-952c-41e3-90b6-afa7a857492d button.colab-df-convert');\n",
              "      buttonEl.style.display =\n",
              "        google.colab.kernel.accessAllowed ? 'block' : 'none';\n",
              "\n",
              "      async function convertToInteractive(key) {\n",
              "        const element = document.querySelector('#df-0fdebe62-952c-41e3-90b6-afa7a857492d');\n",
              "        const dataTable =\n",
              "          await google.colab.kernel.invokeFunction('convertToInteractive',\n",
              "                                                    [key], {});\n",
              "        if (!dataTable) return;\n",
              "\n",
              "        const docLinkHtml = 'Like what you see? Visit the ' +\n",
              "          '<a target=\"_blank\" href=https://colab.research.google.com/notebooks/data_table.ipynb>data table notebook</a>'\n",
              "          + ' to learn more about interactive tables.';\n",
              "        element.innerHTML = '';\n",
              "        dataTable['output_type'] = 'display_data';\n",
              "        await google.colab.output.renderOutput(dataTable, element);\n",
              "        const docLink = document.createElement('div');\n",
              "        docLink.innerHTML = docLinkHtml;\n",
              "        element.appendChild(docLink);\n",
              "      }\n",
              "    </script>\n",
              "  </div>\n",
              "\n",
              "    </div>\n",
              "  </div>\n"
            ],
            "application/vnd.google.colaboratory.intrinsic+json": {
              "type": "dataframe",
              "summary": "{\n  \"name\": \"df[df['height']\",\n  \"rows\": 0,\n  \"fields\": [\n    {\n      \"column\": \"height\",\n      \"properties\": {\n        \"dtype\": \"number\",\n        \"std\": null,\n        \"min\": null,\n        \"max\": null,\n        \"num_unique_values\": 0,\n        \"samples\": [],\n        \"semantic_type\": \"\",\n        \"description\": \"\"\n      }\n    },\n    {\n      \"column\": \"weight\",\n      \"properties\": {\n        \"dtype\": \"number\",\n        \"std\": null,\n        \"min\": null,\n        \"max\": null,\n        \"num_unique_values\": 0,\n        \"samples\": [],\n        \"semantic_type\": \"\",\n        \"description\": \"\"\n      }\n    },\n    {\n      \"column\": \"ap_hi\",\n      \"properties\": {\n        \"dtype\": \"number\",\n        \"std\": null,\n        \"min\": null,\n        \"max\": null,\n        \"num_unique_values\": 0,\n        \"samples\": [],\n        \"semantic_type\": \"\",\n        \"description\": \"\"\n      }\n    },\n    {\n      \"column\": \"ap_lo\",\n      \"properties\": {\n        \"dtype\": \"number\",\n        \"std\": null,\n        \"min\": null,\n        \"max\": null,\n        \"num_unique_values\": 0,\n        \"samples\": [],\n        \"semantic_type\": \"\",\n        \"description\": \"\"\n      }\n    }\n  ]\n}"
            }
          },
          "metadata": {},
          "execution_count": 15
        }
      ]
    },
    {
      "cell_type": "code",
      "source": [
        "# df = df[~(df['height'].isna() & df['weight'].isna())]"
      ],
      "metadata": {
        "id": "q_dX2VPMoz-6"
      },
      "execution_count": null,
      "outputs": []
    },
    {
      "cell_type": "markdown",
      "source": [
        "Удаление записей, содержащих некорректные значения артериального\n",
        "давления.\n",
        "\n",
        "При этом для определения корректности значений давления нужно использовать\n",
        "следующие правила:\n",
        "- допустимым диапазоном измерения давления будем считать (0, 250];\n",
        "- «верхнее» давление не может быть меньше или равно «нижнему»."
      ],
      "metadata": {
        "id": "xn2HkuNi4cY2"
      }
    },
    {
      "cell_type": "code",
      "source": [
        "df = df[~((df['ap_lo'] <= 0) | (df['ap_hi'] > 250))]"
      ],
      "metadata": {
        "id": "qRd5c6aI4ly8"
      },
      "execution_count": null,
      "outputs": []
    },
    {
      "cell_type": "code",
      "source": [
        "df = df[~(df['ap_hi'] <= df['ap_lo'])]"
      ],
      "metadata": {
        "id": "ChHmX4mBPwA4"
      },
      "execution_count": null,
      "outputs": []
    },
    {
      "cell_type": "code",
      "source": [
        "df[(df['ap_lo'] <= 0) | (df['ap_hi'] > 250)] # проверка"
      ],
      "metadata": {
        "colab": {
          "base_uri": "https://localhost:8080/",
          "height": 53
        },
        "id": "BfGaufuq0mhj",
        "outputId": "2c784a25-cd37-4e7a-acf1-123fdafc76b9"
      },
      "execution_count": null,
      "outputs": [
        {
          "output_type": "execute_result",
          "data": {
            "text/plain": [
              "Empty DataFrame\n",
              "Columns: [height, weight, ap_hi, ap_lo]\n",
              "Index: []"
            ],
            "text/html": [
              "\n",
              "  <div id=\"df-acc241d9-c80c-407b-939e-13f2a105b377\" class=\"colab-df-container\">\n",
              "    <div>\n",
              "<style scoped>\n",
              "    .dataframe tbody tr th:only-of-type {\n",
              "        vertical-align: middle;\n",
              "    }\n",
              "\n",
              "    .dataframe tbody tr th {\n",
              "        vertical-align: top;\n",
              "    }\n",
              "\n",
              "    .dataframe thead th {\n",
              "        text-align: right;\n",
              "    }\n",
              "</style>\n",
              "<table border=\"1\" class=\"dataframe\">\n",
              "  <thead>\n",
              "    <tr style=\"text-align: right;\">\n",
              "      <th></th>\n",
              "      <th>height</th>\n",
              "      <th>weight</th>\n",
              "      <th>ap_hi</th>\n",
              "      <th>ap_lo</th>\n",
              "    </tr>\n",
              "  </thead>\n",
              "  <tbody>\n",
              "  </tbody>\n",
              "</table>\n",
              "</div>\n",
              "    <div class=\"colab-df-buttons\">\n",
              "\n",
              "  <div class=\"colab-df-container\">\n",
              "    <button class=\"colab-df-convert\" onclick=\"convertToInteractive('df-acc241d9-c80c-407b-939e-13f2a105b377')\"\n",
              "            title=\"Convert this dataframe to an interactive table.\"\n",
              "            style=\"display:none;\">\n",
              "\n",
              "  <svg xmlns=\"http://www.w3.org/2000/svg\" height=\"24px\" viewBox=\"0 -960 960 960\">\n",
              "    <path d=\"M120-120v-720h720v720H120Zm60-500h600v-160H180v160Zm220 220h160v-160H400v160Zm0 220h160v-160H400v160ZM180-400h160v-160H180v160Zm440 0h160v-160H620v160ZM180-180h160v-160H180v160Zm440 0h160v-160H620v160Z\"/>\n",
              "  </svg>\n",
              "    </button>\n",
              "\n",
              "  <style>\n",
              "    .colab-df-container {\n",
              "      display:flex;\n",
              "      gap: 12px;\n",
              "    }\n",
              "\n",
              "    .colab-df-convert {\n",
              "      background-color: #E8F0FE;\n",
              "      border: none;\n",
              "      border-radius: 50%;\n",
              "      cursor: pointer;\n",
              "      display: none;\n",
              "      fill: #1967D2;\n",
              "      height: 32px;\n",
              "      padding: 0 0 0 0;\n",
              "      width: 32px;\n",
              "    }\n",
              "\n",
              "    .colab-df-convert:hover {\n",
              "      background-color: #E2EBFA;\n",
              "      box-shadow: 0px 1px 2px rgba(60, 64, 67, 0.3), 0px 1px 3px 1px rgba(60, 64, 67, 0.15);\n",
              "      fill: #174EA6;\n",
              "    }\n",
              "\n",
              "    .colab-df-buttons div {\n",
              "      margin-bottom: 4px;\n",
              "    }\n",
              "\n",
              "    [theme=dark] .colab-df-convert {\n",
              "      background-color: #3B4455;\n",
              "      fill: #D2E3FC;\n",
              "    }\n",
              "\n",
              "    [theme=dark] .colab-df-convert:hover {\n",
              "      background-color: #434B5C;\n",
              "      box-shadow: 0px 1px 3px 1px rgba(0, 0, 0, 0.15);\n",
              "      filter: drop-shadow(0px 1px 2px rgba(0, 0, 0, 0.3));\n",
              "      fill: #FFFFFF;\n",
              "    }\n",
              "  </style>\n",
              "\n",
              "    <script>\n",
              "      const buttonEl =\n",
              "        document.querySelector('#df-acc241d9-c80c-407b-939e-13f2a105b377 button.colab-df-convert');\n",
              "      buttonEl.style.display =\n",
              "        google.colab.kernel.accessAllowed ? 'block' : 'none';\n",
              "\n",
              "      async function convertToInteractive(key) {\n",
              "        const element = document.querySelector('#df-acc241d9-c80c-407b-939e-13f2a105b377');\n",
              "        const dataTable =\n",
              "          await google.colab.kernel.invokeFunction('convertToInteractive',\n",
              "                                                    [key], {});\n",
              "        if (!dataTable) return;\n",
              "\n",
              "        const docLinkHtml = 'Like what you see? Visit the ' +\n",
              "          '<a target=\"_blank\" href=https://colab.research.google.com/notebooks/data_table.ipynb>data table notebook</a>'\n",
              "          + ' to learn more about interactive tables.';\n",
              "        element.innerHTML = '';\n",
              "        dataTable['output_type'] = 'display_data';\n",
              "        await google.colab.output.renderOutput(dataTable, element);\n",
              "        const docLink = document.createElement('div');\n",
              "        docLink.innerHTML = docLinkHtml;\n",
              "        element.appendChild(docLink);\n",
              "      }\n",
              "    </script>\n",
              "  </div>\n",
              "\n",
              "    </div>\n",
              "  </div>\n"
            ],
            "application/vnd.google.colaboratory.intrinsic+json": {
              "type": "dataframe",
              "summary": "{\n  \"name\": \"df[(df['ap_lo'] <= 0) | (df['ap_hi'] > 250)] # \\u043f\\u0440\\u043e\\u0432\\u0435\\u0440\\u043a\\u0430\",\n  \"rows\": 0,\n  \"fields\": [\n    {\n      \"column\": \"height\",\n      \"properties\": {\n        \"dtype\": \"number\",\n        \"std\": null,\n        \"min\": null,\n        \"max\": null,\n        \"num_unique_values\": 0,\n        \"samples\": [],\n        \"semantic_type\": \"\",\n        \"description\": \"\"\n      }\n    },\n    {\n      \"column\": \"weight\",\n      \"properties\": {\n        \"dtype\": \"number\",\n        \"std\": null,\n        \"min\": null,\n        \"max\": null,\n        \"num_unique_values\": 0,\n        \"samples\": [],\n        \"semantic_type\": \"\",\n        \"description\": \"\"\n      }\n    },\n    {\n      \"column\": \"ap_hi\",\n      \"properties\": {\n        \"dtype\": \"number\",\n        \"std\": null,\n        \"min\": null,\n        \"max\": null,\n        \"num_unique_values\": 0,\n        \"samples\": [],\n        \"semantic_type\": \"\",\n        \"description\": \"\"\n      }\n    },\n    {\n      \"column\": \"ap_lo\",\n      \"properties\": {\n        \"dtype\": \"number\",\n        \"std\": null,\n        \"min\": null,\n        \"max\": null,\n        \"num_unique_values\": 0,\n        \"samples\": [],\n        \"semantic_type\": \"\",\n        \"description\": \"\"\n      }\n    }\n  ]\n}"
            }
          },
          "metadata": {},
          "execution_count": 18
        }
      ]
    },
    {
      "cell_type": "code",
      "source": [
        "df[df['ap_hi'] <= df['ap_lo']] # проверка"
      ],
      "metadata": {
        "colab": {
          "base_uri": "https://localhost:8080/",
          "height": 53
        },
        "id": "vHv2ybWfQQez",
        "outputId": "3dc17804-bebc-41e1-d79d-954204d5af57"
      },
      "execution_count": null,
      "outputs": [
        {
          "output_type": "execute_result",
          "data": {
            "text/plain": [
              "Empty DataFrame\n",
              "Columns: [height, weight, ap_hi, ap_lo]\n",
              "Index: []"
            ],
            "text/html": [
              "\n",
              "  <div id=\"df-ff0d3a14-122d-4edd-a05a-62a2b288cab1\" class=\"colab-df-container\">\n",
              "    <div>\n",
              "<style scoped>\n",
              "    .dataframe tbody tr th:only-of-type {\n",
              "        vertical-align: middle;\n",
              "    }\n",
              "\n",
              "    .dataframe tbody tr th {\n",
              "        vertical-align: top;\n",
              "    }\n",
              "\n",
              "    .dataframe thead th {\n",
              "        text-align: right;\n",
              "    }\n",
              "</style>\n",
              "<table border=\"1\" class=\"dataframe\">\n",
              "  <thead>\n",
              "    <tr style=\"text-align: right;\">\n",
              "      <th></th>\n",
              "      <th>height</th>\n",
              "      <th>weight</th>\n",
              "      <th>ap_hi</th>\n",
              "      <th>ap_lo</th>\n",
              "    </tr>\n",
              "  </thead>\n",
              "  <tbody>\n",
              "  </tbody>\n",
              "</table>\n",
              "</div>\n",
              "    <div class=\"colab-df-buttons\">\n",
              "\n",
              "  <div class=\"colab-df-container\">\n",
              "    <button class=\"colab-df-convert\" onclick=\"convertToInteractive('df-ff0d3a14-122d-4edd-a05a-62a2b288cab1')\"\n",
              "            title=\"Convert this dataframe to an interactive table.\"\n",
              "            style=\"display:none;\">\n",
              "\n",
              "  <svg xmlns=\"http://www.w3.org/2000/svg\" height=\"24px\" viewBox=\"0 -960 960 960\">\n",
              "    <path d=\"M120-120v-720h720v720H120Zm60-500h600v-160H180v160Zm220 220h160v-160H400v160Zm0 220h160v-160H400v160ZM180-400h160v-160H180v160Zm440 0h160v-160H620v160ZM180-180h160v-160H180v160Zm440 0h160v-160H620v160Z\"/>\n",
              "  </svg>\n",
              "    </button>\n",
              "\n",
              "  <style>\n",
              "    .colab-df-container {\n",
              "      display:flex;\n",
              "      gap: 12px;\n",
              "    }\n",
              "\n",
              "    .colab-df-convert {\n",
              "      background-color: #E8F0FE;\n",
              "      border: none;\n",
              "      border-radius: 50%;\n",
              "      cursor: pointer;\n",
              "      display: none;\n",
              "      fill: #1967D2;\n",
              "      height: 32px;\n",
              "      padding: 0 0 0 0;\n",
              "      width: 32px;\n",
              "    }\n",
              "\n",
              "    .colab-df-convert:hover {\n",
              "      background-color: #E2EBFA;\n",
              "      box-shadow: 0px 1px 2px rgba(60, 64, 67, 0.3), 0px 1px 3px 1px rgba(60, 64, 67, 0.15);\n",
              "      fill: #174EA6;\n",
              "    }\n",
              "\n",
              "    .colab-df-buttons div {\n",
              "      margin-bottom: 4px;\n",
              "    }\n",
              "\n",
              "    [theme=dark] .colab-df-convert {\n",
              "      background-color: #3B4455;\n",
              "      fill: #D2E3FC;\n",
              "    }\n",
              "\n",
              "    [theme=dark] .colab-df-convert:hover {\n",
              "      background-color: #434B5C;\n",
              "      box-shadow: 0px 1px 3px 1px rgba(0, 0, 0, 0.15);\n",
              "      filter: drop-shadow(0px 1px 2px rgba(0, 0, 0, 0.3));\n",
              "      fill: #FFFFFF;\n",
              "    }\n",
              "  </style>\n",
              "\n",
              "    <script>\n",
              "      const buttonEl =\n",
              "        document.querySelector('#df-ff0d3a14-122d-4edd-a05a-62a2b288cab1 button.colab-df-convert');\n",
              "      buttonEl.style.display =\n",
              "        google.colab.kernel.accessAllowed ? 'block' : 'none';\n",
              "\n",
              "      async function convertToInteractive(key) {\n",
              "        const element = document.querySelector('#df-ff0d3a14-122d-4edd-a05a-62a2b288cab1');\n",
              "        const dataTable =\n",
              "          await google.colab.kernel.invokeFunction('convertToInteractive',\n",
              "                                                    [key], {});\n",
              "        if (!dataTable) return;\n",
              "\n",
              "        const docLinkHtml = 'Like what you see? Visit the ' +\n",
              "          '<a target=\"_blank\" href=https://colab.research.google.com/notebooks/data_table.ipynb>data table notebook</a>'\n",
              "          + ' to learn more about interactive tables.';\n",
              "        element.innerHTML = '';\n",
              "        dataTable['output_type'] = 'display_data';\n",
              "        await google.colab.output.renderOutput(dataTable, element);\n",
              "        const docLink = document.createElement('div');\n",
              "        docLink.innerHTML = docLinkHtml;\n",
              "        element.appendChild(docLink);\n",
              "      }\n",
              "    </script>\n",
              "  </div>\n",
              "\n",
              "    </div>\n",
              "  </div>\n"
            ],
            "application/vnd.google.colaboratory.intrinsic+json": {
              "type": "dataframe",
              "summary": "{\n  \"name\": \"df[df['ap_hi'] <= df['ap_lo']] # \\u043f\\u0440\\u043e\\u0432\\u0435\\u0440\\u043a\\u0430\",\n  \"rows\": 0,\n  \"fields\": [\n    {\n      \"column\": \"height\",\n      \"properties\": {\n        \"dtype\": \"number\",\n        \"std\": null,\n        \"min\": null,\n        \"max\": null,\n        \"num_unique_values\": 0,\n        \"samples\": [],\n        \"semantic_type\": \"\",\n        \"description\": \"\"\n      }\n    },\n    {\n      \"column\": \"weight\",\n      \"properties\": {\n        \"dtype\": \"number\",\n        \"std\": null,\n        \"min\": null,\n        \"max\": null,\n        \"num_unique_values\": 0,\n        \"samples\": [],\n        \"semantic_type\": \"\",\n        \"description\": \"\"\n      }\n    },\n    {\n      \"column\": \"ap_hi\",\n      \"properties\": {\n        \"dtype\": \"number\",\n        \"std\": null,\n        \"min\": null,\n        \"max\": null,\n        \"num_unique_values\": 0,\n        \"samples\": [],\n        \"semantic_type\": \"\",\n        \"description\": \"\"\n      }\n    },\n    {\n      \"column\": \"ap_lo\",\n      \"properties\": {\n        \"dtype\": \"number\",\n        \"std\": null,\n        \"min\": null,\n        \"max\": null,\n        \"num_unique_values\": 0,\n        \"samples\": [],\n        \"semantic_type\": \"\",\n        \"description\": \"\"\n      }\n    }\n  ]\n}"
            }
          },
          "metadata": {},
          "execution_count": 19
        }
      ]
    },
    {
      "cell_type": "markdown",
      "source": [
        "4. Посчитать сумму всех числовых значений в очищенной базе (для упрощения\n",
        "процесса проверки).\n"
      ],
      "metadata": {
        "id": "Me5U2MQI0vvH"
      }
    },
    {
      "cell_type": "code",
      "source": [
        "len(df)"
      ],
      "metadata": {
        "colab": {
          "base_uri": "https://localhost:8080/"
        },
        "id": "d1wP3dg7pNaQ",
        "outputId": "e2945846-608a-4c40-8c10-1be767b01c8e"
      },
      "execution_count": null,
      "outputs": [
        {
          "output_type": "execute_result",
          "data": {
            "text/plain": [
              "464"
            ]
          },
          "metadata": {},
          "execution_count": 20
        }
      ]
    },
    {
      "cell_type": "code",
      "source": [
        "df.sum().sum()"
      ],
      "metadata": {
        "colab": {
          "base_uri": "https://localhost:8080/"
        },
        "id": "u4hWsoAk0yoN",
        "outputId": "2c7638ee-3553-4c29-d038-58b1e999cfc8"
      },
      "execution_count": null,
      "outputs": [
        {
          "output_type": "execute_result",
          "data": {
            "text/plain": [
              "206792.0"
            ]
          },
          "metadata": {},
          "execution_count": 24
        }
      ]
    },
    {
      "cell_type": "markdown",
      "source": [
        "5. Средствами Pandas (т.е. без явного привлечения других библиотек) построить\n",
        "гистограмму, показывающую частоту встречаемости разных значений для\n",
        "показателя «ap_hi»."
      ],
      "metadata": {
        "id": "udcS9szY1D1U"
      }
    },
    {
      "cell_type": "code",
      "source": [
        "df.hist(column = \"ap_hi\")"
      ],
      "metadata": {
        "colab": {
          "base_uri": "https://localhost:8080/",
          "height": 470
        },
        "id": "Y3X7G_7l1ID3",
        "outputId": "f8c0c164-734e-4ab5-b3a8-45949311a34e"
      },
      "execution_count": null,
      "outputs": [
        {
          "output_type": "execute_result",
          "data": {
            "text/plain": [
              "array([[<Axes: title={'center': 'ap_hi'}>]], dtype=object)"
            ]
          },
          "metadata": {},
          "execution_count": 23
        },
        {
          "output_type": "display_data",
          "data": {
            "text/plain": [
              "<Figure size 640x480 with 1 Axes>"
            ],
            "image/png": "[encoded data removed]"
          },
          "metadata": {}
        }
      ]
    },
    {
      "cell_type": "markdown",
      "source": [
        "![image.png](data:image/png;base64,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)"
      ],
      "metadata": {
        "id": "Qc8EPjaPrAXf"
      }
    }
  ]
}